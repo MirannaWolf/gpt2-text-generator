{
 "cells": [
  {
   "cell_type": "markdown",
   "metadata": {},
   "source": [
    "# Text Generation with GPT-2\n",
    "\n",
    "This notebook demonstrates text generation using the GPT-2 model from the `transformers` library by Hugging Face. We'll install dependencies, load the model and tokenizer, input a prompt, generate text with customizable parameters, and display the results. An interactive widget is included for dynamic input.\n"
   ]
  },
  {
   "cell_type": "code",
   "execution_count": null,
   "metadata": {},
   "outputs": [],
   "source": [
    "# Install dependencies\n",
    "!pip install transformers torch ipywidgets\n"
   ]
  },
  {
   "cell_type": "code",
   "execution_count": null,
   "metadata": {},
   "outputs": [],
   "source": [
    "# Import libraries\n",
    "from transformers import GPT2LMHeadModel, GPT2Tokenizer\n",
    "import torch\n",
    "from ipywidgets import interact, Textarea\n",
    "import ipywidgets as widgets\n"
   ]
  },
  {
   "cell_type": "code",
   "execution_count": null,
   "metadata": {},
   "outputs": [],
   "source": [
    "# Load model and tokenizer\n",
    "tokenizer = GPT2Tokenizer.from_pretrained(\"gpt2\")\n",
    "model = GPT2LMHeadModel.from_pretrained(\"gpt2\")\n",
    "\n",
    "# Set pad_token to eos_token to avoid warnings\n",
    "tokenizer.pad_token = tokenizer.eos_token\n",
    "model.config.pad_token_id = model.config.eos_token_id\n"
   ]
  },
  {
   "cell_type": "code",
   "execution_count": null,
   "metadata": {},
   "outputs": [],
   "source": [
    "# Function to generate text\n",
    "def generate_text(prompt, max_length=50, temperature=0.8, top_k=50, do_sample=True):\n",
    "    input_ids = tokenizer.encode(prompt, return_tensors=\"pt\")\n",
    "    output = model.generate(\n",
    "        input_ids,\n",
    "        max_length=max_length,\n",
    "        temperature=temperature,\n",
    "        top_k=top_k,\n",
    "        do_sample=do_sample,\n",
    "        pad_token_id=tokenizer.eos_token_id\n",
    "    )\n",
    "    return tokenizer.decode(output[0], skip_special_tokens=True)\n"
   ]
  },
  {
   "cell_type": "code",
   "execution_count": null,
   "metadata": {},
   "outputs": [],
   "source": [
    "# Interactive widget for text input\n",
    "text_input = Textarea(\n",
    "    value=\"Once upon a time\",\n",
    "    placeholder=\"Enter your prompt here\",\n",
    "    description=\"Prompt:\",\n",
    "    layout={'width': '500px', 'height': '100px'}\n",
    ")\n",
    "\n",
    "max_length_slider = widgets.IntSlider(value=50, min=10, max=200, step=10, description=\"Max Length:\")\n",
    "temperature_slider = widgets.FloatSlider(value=0.8, min=0.1, max=1.5, step=0.1, description=\"Temperature:\")\n",
    "top_k_slider = widgets.IntSlider(value=50, min=10, max=100, step=10, description=\"Top K:\")\n",
    "do_sample_checkbox = widgets.Checkbox(value=True, description=\"Do Sample\")\n",
    "\n",
    "output_area = widgets.Output()\n",
    "\n",
    "def on_generate_button_clicked(b):\n",
    "    with output_area:\n",
    "        output_area.clear_output()\n",
    "        result = generate_text(\n",
    "            prompt=text_input.value,\n",
    "            max_length=max_length_slider.value,\n",
    "            temperature=temperature_slider.value,\n",
    "            top_k=top_k_slider.value,\n",
    "            do_sample=do_sample_checkbox.value\n",
    "        )\n",
    "        print(\"Generated Text:\")\n",
    "        print(result)\n",
    "\n",
    "generate_button = widgets.Button(description=\"Generate Text\")\n",
    "generate_button.on_click(on_generate_button_clicked)\n",
    "\n",
    "# Display widgets\n",
    "display(text_input)\n",
    "display(max_length_slider)\n",
    "display(temperature_slider)\n",
    "display(top_k_slider)\n",
    "display(do_sample_checkbox)\n",
    "display(generate_button)\n",
    "display(output_area)\n"
   ]
  },
  {
   "cell_type": "markdown",
   "metadata": {},
   "source": [
    "## Explanation of Parameters\n",
    "\n",
    "- **max_length**: The maximum number of tokens to generate (default: 50).\n",
    "- **temperature**: Controls randomness (lower = more focused, higher = more creative; default: 0.8).\n",
    "- **top_k**: Limits sampling to the top K most likely tokens (default: 50).\n",
    "- **do_sample**: If True, uses sampling; if False, uses greedy decoding (default: True).\n",
    "\n",
    "Adjust the sliders and checkbox, enter a prompt, and click \"Generate Text\" to see the results!\n"
   ]
  }
 ],
 "metadata": {
  "kernelspec": {
   "display_name": "Python 3",
   "language": "python",
   "name": "python3"
  },
  "language_info": {
   "codemirror_mode": {
    "name": "ipython",
    "version": 3
   },
   "file_extension": ".py",
   "mimetype": "text/x-python",
   "name": "python",
   "nbconvert_exporter": "python",
   "pygments_lexer": "ipython3",
   "version": "3.8.10"
  }
 },
 "nbformat": 4,
 "nbformat_minor": 4
}